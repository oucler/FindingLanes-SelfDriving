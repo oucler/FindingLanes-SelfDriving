{
 "cells": [
  {
   "cell_type": "code",
   "execution_count": 1,
   "metadata": {
    "collapsed": false
   },
   "outputs": [
    {
     "name": "stdout",
     "output_type": "stream",
     "text": [
      "[MoviePy] >>>> Building video white.mp4\n",
      "[MoviePy] Writing video white.mp4\n"
     ]
    },
    {
     "name": "stderr",
     "output_type": "stream",
     "text": [
      "100%|█████████▉| 221/222 [00:02<00:00, 76.00it/s]\n"
     ]
    },
    {
     "name": "stdout",
     "output_type": "stream",
     "text": [
      "[MoviePy] Done.\n",
      "[MoviePy] >>>> Video ready: white.mp4 \n",
      "\n",
      "[MoviePy] >>>> Building video yellow.mp4\n",
      "[MoviePy] Writing video yellow.mp4\n"
     ]
    },
    {
     "name": "stderr",
     "output_type": "stream",
     "text": [
      "100%|█████████▉| 681/682 [00:09<00:00, 74.34it/s]\n"
     ]
    },
    {
     "name": "stdout",
     "output_type": "stream",
     "text": [
      "[MoviePy] Done.\n",
      "[MoviePy] >>>> Video ready: yellow.mp4 \n",
      "\n"
     ]
    }
   ],
   "source": [
    "# Importing needed modules\n",
    "import matplotlib.pyplot as plt\n",
    "import matplotlib.image as mpimg\n",
    "import numpy as np\n",
    "import cv2\n",
    "from numpy.polynomial import polynomial as p\n",
    "import os\n",
    "import math\n",
    "# Import everything needed to edit/save/watch video clips\n",
    "from moviepy.editor import VideoFileClip\n",
    "from IPython.display import HTML\n",
    "\n",
    "class findingLaneLines(object):\n",
    "\n",
    "    def __init__(self,challenge=False):\n",
    "        #Defining challenge workaround\n",
    "        self.challenge = challenge\n",
    "        # Defining a kernel size and apply Gaussian smoothing\n",
    "        self.kernel_size = 5\n",
    "        # Defiing color mask\n",
    "        self.ignore_mask_color = 255\n",
    "        # Defining parameters for Canny and apply\n",
    "        self.low_threshold = 50 # below color ignored\n",
    "        self.high_threshold = 150 #above colors ignored\n",
    "        # Defining the Hough transform parameters\n",
    "        # Make a blank the same size as    our image to draw on\n",
    "        self.rho = 1 # distance resolution in pixels of the Hough grid\n",
    "        self.theta = np.pi/180 # angular resolution in radians of the Hough grid\n",
    "        self.threshold = 25     # minimum number of votes (intersections in Hough grid cell)\n",
    "        self.min_line_length = 50 #minimum number of pixels making up a line\n",
    "        self.max_line_gap = 150    # maximum gap in pixels between connectable line segments\n",
    "        #######################################################################\n",
    "    def grayscale(self,img):\n",
    "        \"\"\"\n",
    "        Applies the Grayscale transform\n",
    "        This will return an image with only one color channel\n",
    "        but NOTE: to see the returned image as grayscale\n",
    "        (assuming your grayscaled image is called 'gray')\n",
    "        you should call plt.imshow(gray, cmap='gray')\n",
    "        \"\"\"\n",
    "        return cv2.cvtColor(img, cv2.COLOR_RGB2GRAY)\n",
    "        # Or use BGR2GRAY if you read an image with cv2.imread()\n",
    "        # return cv2.cvtColor(img, cv2.COLOR_BGR2GRAY)\n",
    "    def canny(self,img, low_threshold, high_threshold):\n",
    "        #Applies the Canny transform\n",
    "        return cv2.Canny(img, low_threshold, high_threshold)\n",
    "    def gaussian_blur(self,img, kernel_size):\n",
    "        #Applies a Gaussian Noise kernel\n",
    "        return cv2.GaussianBlur(img, (kernel_size, kernel_size), 0)\n",
    "    def region_of_interest(self,img, vertices):\n",
    "        \"\"\"\n",
    "        Applies an image mask.\n",
    "        Only keeps the region of the image defined by the polygon\n",
    "        formed from `vertices`. The rest of the image is set to black.\n",
    "        \"\"\"\n",
    "        #defining a blank mask to start with\n",
    "        mask = np.zeros_like(img)   \n",
    "        #defining a 3 channel or 1 channel color to fill the mask with depending on the input image\n",
    "        if len(img.shape) > 2:\n",
    "            channel_count = img.shape[2]  # i.e. 3 or 4 depending on your image\n",
    "            ignore_mask_color = (255,) * channel_count\n",
    "        else:\n",
    "            ignore_mask_color = 255   \n",
    "        #filling pixels inside the polygon defined by \"vertices\" with the fill color    \n",
    "        cv2.fillPoly(mask, vertices, ignore_mask_color)\n",
    "        \n",
    "        #returning the image only where mask pixels are nonzero\n",
    "        masked_image = cv2.bitwise_and(img, mask)\n",
    "        return masked_image\n",
    "    \n",
    "    def draw_lines(self,img, lines, color=[255, 0, 0], thickness=2):\n",
    "        \"\"\"\n",
    "        NOTE: this is the function you might want to use as a starting point once you want to \n",
    "        average/extrapolate the line segments you detect to map out the full\n",
    "        extent of the lane (going from the result shown in raw-lines-example.mp4\n",
    "        to that shown in P1_example.mp4).  \n",
    "        \n",
    "        Think about things like separating line segments by their \n",
    "        slope ((y2-y1)/(x2-x1)) to decide which segments are part of the left\n",
    "        line vs. the right line.  Then, you can average the position of each of \n",
    "        the lines and extrapolate to the top and bottom of the lane.\n",
    "        \n",
    "        This function draws `lines` with `color` and `thickness`.    \n",
    "        Lines are drawn on the image inplace (mutates the image).\n",
    "        If you want to make the lines semi-transparent, think about combining\n",
    "        this function with the weighted_img() function below\n",
    "        \"\"\"\n",
    "        for line in lines:\n",
    "            x1=line[0]\n",
    "            y1=line[1]\n",
    "            x2=line[2]\n",
    "            y2=line[3]\n",
    "            #for x1,y1,x2,y2 in line:\n",
    "            cv2.line(img, (x1, y1), (x2, y2), color, thickness)\n",
    "                \n",
    "\n",
    "    def splitLanes(self,lines):\n",
    "        \"\"\" Takes an array of hough lines and separates them by +/- slope.\n",
    "            The y-axis is inverted in matplotlib, so the calculated positive slopes will be right\n",
    "            lane lines and negative slopes will be left lanes. \"\"\"\n",
    "        right = []\n",
    "        left = []\n",
    "        rightCount=0\n",
    "        leftCount=0\n",
    "        mRightTotal=0\n",
    "        mLeftTotal=0\n",
    "        bLeft=0\n",
    "        bRight=0\n",
    "        for line in lines:\n",
    "            for x1,y1,x2,y2 in line:\n",
    "                m = (float(y2) - y1) / (x2 - x1)\n",
    "                if m >= 0: \n",
    "                    right.append([x1,y1,x2,y2,m])\n",
    "                    bRight = (y2-y1) -m*(x2-x1) + bRight\n",
    "                    mRightTotal = m + mRightTotal\n",
    "                    rightCount = rightCount + 1\n",
    "                else:\n",
    "                    left.append([x1,y1,x2,y2,m])\n",
    "                    bLeft = (y2-y1) -m*(x2-x1) + bLeft\n",
    "                    mLeftTotal = m + mLeftTotal\n",
    "                    leftCount = leftCount + 1\n",
    "        mLeft = float(mLeftTotal)/leftCount\n",
    "        mRight = float(mRightTotal)/rightCount  \n",
    "        return right, left,mRight, mLeft\n",
    "   \n",
    "    \n",
    "    def npArr(self,lines):\n",
    "        \"\"\"Merges all Hough lines by the mean of each endpoint, \n",
    "           then extends them off across the image\"\"\"\n",
    "        lines = np.array(lines,dtype=np.int32)\n",
    "        return lines\n",
    "    \n",
    "    def extrapolate(self,laneData,m,image):\n",
    "        lanes = []\n",
    "        imshape = image.shape\n",
    "        yBottom = imshape[0]\n",
    "        yTop = imshape[0]*0.62\n",
    "        for line in laneData:\n",
    "            x1=line[0]\n",
    "            y1=line[1]\n",
    "            x2=line[2]\n",
    "            y2=line[3]\n",
    "            slope = line[4]\n",
    "            if (abs(slope)>0.5):\n",
    "                x1New = x2 - (y2-yBottom)/slope\n",
    "                x2New = x2 + (yTop-y2)/slope\n",
    "                lanes.append([x1New,yBottom,x2New,yTop])\n",
    "                lanes.append([x1New,yBottom,x2New,yTop])\n",
    "        return lanes\n",
    "    def hough_lines(self,img, rho, theta, threshold, min_line_len, max_line_gap):\n",
    "        \"\"\"\n",
    "        `img` should be the output of a Canny transform.\n",
    "            \n",
    "        Returns an image with hough lines drawn.\n",
    "        \"\"\"\n",
    "        lines = cv2.HoughLinesP(img, rho, theta, threshold, np.array([]), minLineLength=min_line_len, maxLineGap=max_line_gap)\n",
    "        line_img = np.zeros((img.shape[0], img.shape[1], 3), dtype=np.uint8)\n",
    "        self.draw_lines(line_img, lines)\n",
    "        return line_img\n",
    "    def pipeline(self,image): \n",
    "        # Read in and grayscale the image\n",
    "        gray = self.grayscale(image)\n",
    "        #######################################################################\n",
    "        # Gaussian smoothing \n",
    "        blur_gray = self.gaussian_blur(gray,self.kernel_size)\n",
    "        #######################################################################\n",
    "        # Applying Canny Edge \n",
    "        edges = self.canny(blur_gray,self.low_threshold, self.high_threshold)\n",
    "        #######################################################################\n",
    "        # Creating mask\n",
    "        mask = np.zeros_like(edges)   \n",
    "        #######################################################################\n",
    "        # This time we are defining a four sided polygon to mask\n",
    "        # Defining a four sided polygon to mask\n",
    "        imshape = image.shape\n",
    "        left_bottom = [0.098*imshape[1],imshape[0]]\n",
    "        right_bottom = [imshape[1],imshape[0]]\n",
    "        left_top = [0.43*imshape[1], 0.62*imshape[0]]\n",
    "        right_top = [0.57*imshape[1],0.62*imshape[0]]\n",
    "        #######################################################################\n",
    "        # Applying the polygon mask for the region of interest \n",
    "        vertices = np.array([[(left_bottom[0],left_bottom[1]),(left_top[0], left_top[1]), (right_top[0],right_top[1]), (right_bottom[0],right_bottom[1])]], dtype=np.int32)\n",
    "        cv2.fillPoly(mask, vertices, self.ignore_mask_color)\n",
    "        masked_edges = cv2.bitwise_and(edges, mask)\n",
    "        #######################################################################    \n",
    "        # Run Hough on edge detected image\n",
    "        # Output \"lines\" is an array containing endpoints of detected line segments\n",
    "        lines = cv2.HoughLinesP(masked_edges, self.rho, self.theta, self.threshold, np.array([]),\n",
    "                                    self.min_line_length, self.max_line_gap)\n",
    "        ####################################################################### \n",
    "        # Extrapolate the line by spliting the lanes\n",
    "        right_lines, left_lines,mRight,mLeft = self.splitLanes(lines)\n",
    "        right  = self.extrapolate(right_lines,mRight,image)\n",
    "        left  = self.extrapolate(left_lines,mLeft,image)\n",
    "        right = self.npArr(right)\n",
    "        left = self.npArr(left)\n",
    "        #lines = np.concatenate((right,left))\n",
    "       ####################################################################### \n",
    "        # Drawing lines\n",
    "        line_image = np.copy((image)*0)\n",
    "        self.draw_lines(line_image, right, thickness=10)\n",
    "        self.draw_lines(line_image, left, thickness=10)\n",
    "         #######################################################################         \n",
    "        # Adding weight\n",
    "        final = cv2.addWeighted(line_image, 0.8, image, 1, 0) \n",
    "        return final\n",
    "\n",
    "    def process_image(self,image):\n",
    "        result = self.pipeline(image)\n",
    "        return result\n",
    "\n",
    "# Instantiating classes for regular and challenge \n",
    "fl = findingLaneLines()\n",
    "flChallenge = findingLaneLines(challenge=True)\n",
    "####################################################################### \n",
    "# Processing solidWhiteRight.mp4 video\n",
    "white_output = 'white.mp4'\n",
    "clipWhite = VideoFileClip(\"solidWhiteRight.mp4\")\n",
    "white_clip = clipWhite.fl_image(fl.process_image) #NOTE: this function expects color images!!\n",
    "white_clip.write_videofile(white_output, audio=False) \n",
    "#######################################################################\n",
    "#\"\"\"\n",
    "# Processing solidYellowLeft.mp4 video\n",
    "yellow_output = 'yellow.mp4'\n",
    "clipYellow = VideoFileClip(\"solidYellowLeft.mp4\")\n",
    "yellow_clip = clipYellow.fl_image(fl.process_image)\n",
    "yellow_clip.write_videofile(yellow_output, audio=False) "
   ]
  },
  {
   "cell_type": "code",
   "execution_count": 2,
   "metadata": {
    "collapsed": false
   },
   "outputs": [
    {
     "data": {
      "text/html": [
       "\n",
       "<video width=\"960\" height=\"540\" controls>\n",
       "  <source src=\"white.mp4\">\n",
       "</video>\n"
      ],
      "text/plain": [
       "<IPython.core.display.HTML object>"
      ]
     },
     "execution_count": 2,
     "metadata": {},
     "output_type": "execute_result"
    }
   ],
   "source": [
    "HTML(\"\"\"\n",
    "<video width=\"960\" height=\"540\" controls>\n",
    "  <source src=\"{0}\">\n",
    "</video>\n",
    "\"\"\".format(white_output))\n"
   ]
  },
  {
   "cell_type": "code",
   "execution_count": 3,
   "metadata": {
    "collapsed": false,
    "scrolled": true
   },
   "outputs": [
    {
     "data": {
      "text/html": [
       "\n",
       "<video width=\"960\" height=\"540\" controls>\n",
       "  <source src=\"yellow.mp4\">\n",
       "</video>\n"
      ],
      "text/plain": [
       "<IPython.core.display.HTML object>"
      ]
     },
     "execution_count": 3,
     "metadata": {},
     "output_type": "execute_result"
    }
   ],
   "source": [
    "HTML(\"\"\"\n",
    "<video width=\"960\" height=\"540\" controls>\n",
    "  <source src=\"{0}\">\n",
    "</video>\n",
    "\"\"\".format(yellow_output))\n"
   ]
  },
  {
   "cell_type": "code",
   "execution_count": 20,
   "metadata": {
    "collapsed": false
   },
   "outputs": [
    {
     "data": {
      "text/html": [
       "\n",
       "<video width=\"960\" height=\"540\" controls>\n",
       "  <source src=\"CurveandShadow.mp4\">\n",
       "</video>\n"
      ],
      "text/plain": [
       "<IPython.core.display.HTML object>"
      ]
     },
     "execution_count": 20,
     "metadata": {},
     "output_type": "execute_result"
    }
   ],
   "source": []
  },
  {
   "cell_type": "code",
   "execution_count": null,
   "metadata": {
    "collapsed": true
   },
   "outputs": [],
   "source": []
  }
 ],
 "metadata": {
  "kernelspec": {
   "display_name": "Python 2",
   "language": "python",
   "name": "python2"
  },
  "language_info": {
   "codemirror_mode": {
    "name": "ipython",
    "version": 2
   },
   "file_extension": ".py",
   "mimetype": "text/x-python",
   "name": "python",
   "nbconvert_exporter": "python",
   "pygments_lexer": "ipython2",
   "version": "2.7.13"
  }
 },
 "nbformat": 4,
 "nbformat_minor": 2
}
